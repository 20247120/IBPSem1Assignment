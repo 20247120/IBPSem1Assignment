{
  "nbformat": 4,
  "nbformat_minor": 0,
  "metadata": {
    "colab": {
      "private_outputs": true,
      "provenance": [],
      "include_colab_link": true
    },
    "kernelspec": {
      "name": "python3",
      "display_name": "Python 3"
    },
    "language_info": {
      "name": "python"
    }
  },
  "cells": [
    {
      "cell_type": "markdown",
      "metadata": {
        "id": "view-in-github",
        "colab_type": "text"
      },
      "source": [
        "<a href=\"https://colab.research.google.com/github/20247120/IBPSem1Assignment/blob/main/resource_flucuations_simulation_starter.ipynb\" target=\"_parent\"><img src=\"https://colab.research.google.com/assets/colab-badge.svg\" alt=\"Open In Colab\"/></a>"
      ]
    },
    {
      "cell_type": "markdown",
      "source": [
        "## ISYS2001 Introduction to Business Programming\n",
        "#### Programming Assignment - Semester 1, 2024\n",
        "#####*20247120 Cadence Gant*\n",
        "---\n",
        "\n",
        "This notebook serves as an interactive report to simulate and analyze the fluctuations in resource prices. It aims to provide a deeper understanding of market dynamics, the impact of supply disruptions, and potential hedging strategies for businesses dealing with critical resources.\n",
        "\n",
        "## Simulation Overview\n",
        "\n",
        "This report is intended to demonstrate the effects of altering different variables on a simulation of a normal (or Gaussian) distribution of resource price fluctuations over time (NumPy Developers n.d.). The parameters used in this simulation are as follows, as detailed in [resource_fluctuations_simulation.py](https://github.com/teaching-repositories/simulacra/blob/main/simulacra/resource_fluctuations_simulation.py):\n",
        "\n",
        "start_price (float)\n",
        "* the price of the resource at the start of the simulation\n",
        "\n",
        "days (int)\n",
        "* the number of days the simulation models\n",
        "\n",
        "volatility (float)\n",
        "* standard deviation of the normal distribution of price fluctuations (the 'variance' in percentage changes in price per day, representing volatility in the fluctuation)\n",
        "\n",
        "drift (float)\n",
        "* center of the normal distribution of price fluctuations (most likely percentage change in price per day)\n",
        "\n",
        "supply_disruption_day (int) _Optional_\n",
        "* an optional day on which supply is disrupted\n",
        "* must be equal to or less than the number of days the simulation models\n",
        "\n",
        "disruption_severity (float)\n",
        "* a multiplicative value increasing prices after a disruption occurs\n",
        "\n",
        "random_seed (int) _Optional_\n",
        "* an optional seed for a random number generator to affect the way the normal distribution of price fluctuations is generated\n",
        "\n",
        "\n",
        "\n",
        "### Baseline Simulation\n",
        "\n",
        "In this section we want to understand and visualise the fluctuations without the supply disruption day event.\n",
        "\n",
        "First we need to install necessary packages.\n",
        "\n",
        "\n"
      ],
      "metadata": {
        "id": "YVXcaPQVoGvX"
      }
    },
    {
      "cell_type": "code",
      "execution_count": null,
      "metadata": {
        "id": "yLciWoraSagH"
      },
      "outputs": [],
      "source": [
        "!pip install git+https://github.com/teaching-repositories/simulacra.git -q"
      ]
    },
    {
      "cell_type": "markdown",
      "source": [
        "We need to\n",
        "  - **Import the necessary libraries**: Code cells to import libraries (like `matplotlib` for plotting and any other libraries needed).\n",
        "  - **Run the Simulation**: Code to run the simulation with zero disruption impact.\n",
        "  - **Visualise the Results**: Plotting prices over time to establish a baseline."
      ],
      "metadata": {
        "id": "BbWt8I6XqQpV"
      }
    },
    {
      "cell_type": "code",
      "source": [
        "from simulacra import ResourceFluctuationsSimulation\n",
        "import matplotlib.pyplot as plt\n",
        "\n",
        "\n",
        "# Helper function to display the plot\n",
        "def plot_prices(prices, supply_disruption_day=None):\n",
        "    \"\"\"\n",
        "    Plots the prices from a simulation with an optional vertical line marking a supply disruption.\n",
        "\n",
        "    Parameters:\n",
        "        prices (List[float]): A list of prices to be plotted.\n",
        "        supply_disruption_day (Optional[int]): The day on which the supply disruption occurs (defaults to None).\n",
        "\n",
        "    Returns:\n",
        "        None\n",
        "    \"\"\"\n",
        "    plt.figure(figsize=(10, 6))\n",
        "    plt.plot(prices, label='Resource Price')\n",
        "    if supply_disruption_day is not None:\n",
        "        plt.axvline(x=supply_disruption_day, color='r', linestyle='--', label='Supply Disruption')\n",
        "    plt.xlabel('Days')\n",
        "    plt.ylabel('Price')\n",
        "    plt.title('Resource Price Simulation')\n",
        "    plt.legend()\n",
        "    plt.show()\n",
        "\n",
        "# Setup the simulation\n",
        "sim = ResourceFluctuationsSimulation(start_price=100, days=250, volatility=0.015,\n",
        "                             drift=0.0003, supply_disruption_day=100, disruption_severity=0.3)\n",
        "\n",
        "# Run the simulation\n",
        "prices = sim.run_simulation()\n",
        "\n",
        "# Visualise the results\n",
        "plot_prices(prices, sim.supply_disruption_day)"
      ],
      "metadata": {
        "id": "xk-CtCQmTJN7"
      },
      "execution_count": null,
      "outputs": []
    },
    {
      "cell_type": "markdown",
      "source": [
        "### Impact of Volatility on Price Stability\n",
        "Analyze how different volatility settings affect the stability and predictability of resource prices. Discuss the observed trends and implications.\n"
      ],
      "metadata": {
        "id": "fHy0kE7wr8qk"
      }
    },
    {
      "cell_type": "code",
      "source": [
        "#import the simulation under a shorter alias for ease of use\n",
        "from simulacra import ResourceFluctuationsSimulation as rfs\n",
        "import matplotlib.pyplot as plt\n",
        "\n",
        "#copying over the plot display function as it does not need to be edited for these tests\n",
        "#edited params slightly to include a variable plot title when displaying multiple test results in one output\n",
        "def plot_prices(plot_title, prices, supply_disruption_day=None):\n",
        "    \"\"\"\n",
        "    Plots the prices from a simulation with an optional vertical line marking a supply disruption.\n",
        "\n",
        "    Parameters:\n",
        "        plot_title: A custom title to be displayed on the plot.\n",
        "        prices (List[float]): A list of prices to be plotted.\n",
        "        supply_disruption_day (Optional[int]): The day on which the supply disruption occurs (defaults to None).\n",
        "\n",
        "    Returns:\n",
        "        None\n",
        "    \"\"\"\n",
        "    plt.figure(figsize=(10, 6))\n",
        "    plt.plot(prices, label='Resource Price')\n",
        "    if supply_disruption_day is not None:\n",
        "        plt.axvline(x=supply_disruption_day, color='r', linestyle='--', label='Supply Disruption')\n",
        "    plt.xlabel('Days')\n",
        "    plt.ylabel('Price')\n",
        "    plt.title(plot_title)\n",
        "    plt.legend()\n",
        "    plt.show()\n",
        "\n",
        "#test 1: increasing volatility by a factor of 10 (0.015 * 10 = 0.15) - expecting drastic price variance\n",
        "test_title_1 = 'Resource Price Simulation - 10x Price Volatility'\n",
        "sim_1 = rfs(start_price=100, days=250, volatility=0.15, drift=0.0003, supply_disruption_day=100, disruption_severity=0.3)\n",
        "prices_1 = sim_1.run_simulation()\n",
        "plot_prices(test_title_1, prices_1, sim_1.supply_disruption_day)\n",
        "#Result of test 1: Price varies severely on an almost daily basis, causing multiple spikes and valleys in the observed plot.\n",
        "#Multiple tests with this setting have made it impossible to identify any trends other than the extreme volatility causing\n",
        "#depression-level inflation to happen with frankly ridiculous frequency.\n",
        "\n",
        "#test 2: setting volatility to half of its original value (0.015 / 2 = 0.0075) - expecting a more stable trend in price\n",
        "test_title_2 = 'Resource Price Simulation - 0.5x Price Volatility'\n",
        "sim_2 = rfs(start_price=100, days=250, volatility=0.0075, drift=0.0003, supply_disruption_day=100, disruption_severity=0.3)\n",
        "prices_2 = sim_2.run_simulation()\n",
        "plot_prices(test_title_2, prices_2, sim_2.supply_disruption_day)\n",
        "#Result of test 2: Price starts trending slightly upwards with little variance as expected. Stability continues even after\n",
        "#supply disruption day causes a steep rise in resource price, as the trend continues within a relatively small margin for the\n",
        "#remainder of the simulation.\n",
        "\n",
        "#test 3: price volatility is equal to drift (0.0003) - expecting little if any visible price variance\n",
        "test_title_3 = 'Resource Price Simulation - Price Volatility = Price Drift'\n",
        "sim_3 = rfs(start_price=100, days=250, volatility=0.0003, drift=0.0003, supply_disruption_day=100, disruption_severity=0.3)\n",
        "prices_3 = sim_3.run_simulation()\n",
        "plot_prices(test_title_3, prices_3, sim_3.supply_disruption_day)\n",
        "#Result of test 3: Unlike the previous tests, running the simulation with this setting multiple times appears to produce nearly\n",
        "#identical plots - as expected, the standard deviation of the price variance being equal to the mean variance causes almost no\n",
        "#fluctuation to occur in the simulation, and all runs of this test have produced a gentle, unbroken upwards trend for the entirety\n",
        "#of the simulation."
      ],
      "metadata": {
        "id": "q33eoWmcsANx"
      },
      "execution_count": null,
      "outputs": []
    },
    {
      "cell_type": "markdown",
      "source": [
        "### Analyzing the Impact of a Supply Disruption\n",
        "In this section, model the effects of a supply disruption on resource pricing and market stability. Include code to set up different scenarios with varying supply disruption. Use markers or lines to denote disruption start and assess impact. Overlay plots or perform a Side-by-side comparison to show different impacts of supply disruption.  Discuss the observed trends and implicaitons."
      ],
      "metadata": {
        "id": "NbTNoTDpsQv1"
      }
    },
    {
      "cell_type": "code",
      "source": [
        "#imports\n",
        "from simulacra import ResourceFluctuationsSimulation as rfs\n",
        "import matplotlib.pyplot as plt\n",
        "\n",
        "#Doing the coding a little differently than in the volatility tests, I will be running all tests first and passing the values into 2-dimensional\n",
        "#list of the price lists, then passing each index into the plotting subroutine to overlay all test trends on a single plot.\n",
        "\n",
        "#Testing function\n",
        "def impact_tests(disrupt=None):\n",
        "  \"\"\"\n",
        "  Runs a number of resource price fluctuation simulations with differing supply disruption severity values\n",
        "\n",
        "  Parameters:\n",
        "      disrupt: A specified value for the supply disruption day to occur in all tests (defaults to 100 if empty or outside range of simulation)\n",
        "\n",
        "  Returns:\n",
        "      List of price lists generated by each test\n",
        "  \"\"\"\n",
        "  #initialise the return list\n",
        "  prices_list = []\n",
        "\n",
        "  if disrupt is None:\n",
        "    disrupt = 100\n",
        "  elif 1 > disrupt > 249:\n",
        "    disrupt = 100\n",
        "\n",
        "  #Test 1: Disruption severity doubled\n",
        "  sim_1 = rfs(start_price=100, days=250, volatility=0.015, drift=0.0003, supply_disruption_day=disrupt, disruption_severity=0.6)\n",
        "  prices_list.append(sim_1.run_simulation())\n",
        "\n",
        "  #Test 2: Disruption severity halved\n",
        "  sim_2 = rfs(start_price=100, days=250, volatility=0.015, drift=0.0003, supply_disruption_day=disrupt, disruption_severity=0.15)\n",
        "  prices_list.append(sim_2.run_simulation())\n",
        "\n",
        "  #Test 3: Disruption severity is equal to price volatility (0.015)\n",
        "  sim_3 = rfs(start_price=100, days=250, volatility=0.015, drift=0.0003, supply_disruption_day=disrupt, disruption_severity=0.015)\n",
        "  prices_list.append(sim_3.run_simulation())\n",
        "\n",
        "  return prices_list\n",
        "\n",
        "#Run the testing function and pass returns to the plotter\n",
        "disruption_day = 100 #this is unnecessary but here in case it needs to be used for other tests\n",
        "test_returns = impact_tests()\n",
        "control_sim = rfs(start_price=100, days=250, volatility=0.015, drift=0.0003, supply_disruption_day=100, disruption_severity=0.3)\n",
        "control_prices = control_sim.run_simulation()\n",
        "\n",
        "plt.figure(figsize=(10,6))\n",
        "plt.axvline(x=disruption_day, color='r', linestyle='--', label='Supply Disruption')\n",
        "#adding control plot for better visualisation\n",
        "plt.plot(control_prices, color='g', label='Normal Disruption Severity')\n",
        "plt.plot(test_returns[0], color='c', label='2x Disruption Severity')\n",
        "plt.plot(test_returns[1], color='m', label='0.5x Disruption Severity')\n",
        "plt.plot(test_returns[2], color='y', label='0.05x Disruption Severity')\n",
        "plt.xlabel('Days')\n",
        "plt.ylabel('Price')\n",
        "plt.title('The Effect of Supply Disruption Severity on Resource Price')\n",
        "plt.legend()\n",
        "plt.show()"
      ],
      "metadata": {
        "id": "l77hSsTwsUS4"
      },
      "execution_count": null,
      "outputs": []
    },
    {
      "cell_type": "markdown",
      "source": [
        "### Exploring Hedging Strategies (Optional)\n",
        "In this section, evaluate the effectiveness of different hedging strategies to mitigate risks associated with price fluctuations.  Set up various hypothetical scenarios with assumed prices and effects. Use graphs to show strategy effectiveness versus cost."
      ],
      "metadata": {
        "id": "Me8lcmt6sjsx"
      }
    },
    {
      "cell_type": "code",
      "source": [
        "# Code to simulate and compare different hedging strategies"
      ],
      "metadata": {
        "id": "SnVHo5owsmXL"
      },
      "execution_count": null,
      "outputs": []
    },
    {
      "cell_type": "markdown",
      "source": [
        "### Conclusions\n",
        "#### Price Volatility Testing\n",
        "Altering the price volatility greatly impacts the expected shape of the price trends, with higher volatility causing a more turbulent price. Interestingly, as price volatility decreases, the impact of supply disruption appears to affect the immediate price more, suggesting an inverse correlation between price volatility and disruption severity.\n",
        "Additionally, it appears that as the volatility approaches 0, the resource price tends more toward a general upward trend over the course of the simulation - and therefore as it approaches 1, the severity of the fluctuations correlate to a negative price trend.\n",
        "\n",
        "#### Supply Disruption Impact Testing\n",
        "TBA\n",
        "\n",
        "#### Hedging Strategy Testing\n",
        "TBA\n",
        "\n",
        "### Challenges and Further Research\n",
        "Discuss any limitations encountered during the simulations and suggest areas for further exploration or improvement in future studies.\n",
        "\n",
        "### References and Additional Resources\n",
        "1. NumPy Developers. n.d. \"numpy.random.normal - NumPy v.1.26 Manual.\" NumPy\n",
        "Developers. Accessed May 25th, 2024. [URL.](https://numpy.org/doc/stable/reference/random/generated/numpy.random.normal.html)"
      ],
      "metadata": {
        "id": "74HeX4kbqGh6"
      }
    }
  ]
}